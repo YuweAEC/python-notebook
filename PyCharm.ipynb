{
 "cells": [
  {
   "cell_type": "code",
   "execution_count": null,
   "id": "1bbf7e62-48c7-4175-ab9f-b94a67035b3e",
   "metadata": {},
   "outputs": [],
   "source": [
    "result5=(1,2,3,4)\n",
    "result6=(1,2,2,1)\n",
    "result7=np.multiply(result5,result6)\n",
    "print(result7)"
   ]
  }
 ],
 "metadata": {
  "kernelspec": {
   "display_name": "Python 3 (ipykernel)",
   "language": "python",
   "name": "python3"
  },
  "language_info": {
   "codemirror_mode": {
    "name": "ipython",
    "version": 3
   },
   "file_extension": ".py",
   "mimetype": "text/x-python",
   "name": "python",
   "nbconvert_exporter": "python",
   "pygments_lexer": "ipython3",
   "version": "3.10.6"
  }
 },
 "nbformat": 4,
 "nbformat_minor": 5
}
