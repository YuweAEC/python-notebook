{
 "cells": [
  {
   "cell_type": "code",
   "execution_count": null,
   "id": "5edcfc1c",
   "metadata": {},
   "outputs": [],
   "source": [
    "import tkinter\n",
    "top=tkinter.Tk()\n",
    "top.mainloop()"
   ]
  },
  {
   "cell_type": "code",
   "execution_count": null,
   "id": "f8c3a4f2",
   "metadata": {},
   "outputs": [],
   "source": [
    "from tkinter import *\n",
    "root = Tk()\n",
    "root.title(\"Hello Python\")\n",
    "root.config(bg=\"blue\")\n",
    "root.mainloop()"
   ]
  },
  {
   "cell_type": "code",
   "execution_count": null,
   "id": "82d10ff9",
   "metadata": {},
   "outputs": [],
   "source": [
    "from tkinter import *\n",
    "root = Tk()\n",
    "root.title(\"Hello Python\")\n",
    "root.config(bg=\"blue\")\n",
    "class Mywindow:\n",
    "    def _init_(self.master):\n",
    "        self.l1 = Label(master,text = \"Enter a Number:-\",font=(\"arial\",15,\"bold\"))\n",
    "        self.l1.place(x=10,y=50)\n",
    "        \n",
    "        self.t1=Entry(bd=3,font=(\"arial\",12,\"bold\"))\n",
    "        self.t1.place(x=200,y=50)\n",
    "mywin=Mywindow(root)\n",
    "root.mainloop()"
   ]
  },
  {
   "cell_type": "code",
   "execution_count": null,
   "id": "34969a68",
   "metadata": {},
   "outputs": [],
   "source": []
  }
 ],
 "metadata": {
  "kernelspec": {
   "display_name": "Python 3 (ipykernel)",
   "language": "python",
   "name": "python3"
  },
  "language_info": {
   "codemirror_mode": {
    "name": "ipython",
    "version": 3
   },
   "file_extension": ".py",
   "mimetype": "text/x-python",
   "name": "python",
   "nbconvert_exporter": "python",
   "pygments_lexer": "ipython3",
   "version": "3.11.4"
  }
 },
 "nbformat": 4,
 "nbformat_minor": 5
}
