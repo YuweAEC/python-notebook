{
 "cells": [
  {
   "cell_type": "code",
   "execution_count": 2,
   "id": "9ec27a6a-ceb7-4a26-9291-e3d5f4e822bd",
   "metadata": {},
]
  }
 ],
 "metadata": {
  "kernelspec": {
   "display_name": "Python 3 (ipykernel)",
   "language": "python",
   "name": "python3"
  },
  "language_info": {
   "codemirror_mode": {
    "name": "ipython",
    "version": 3
   },
   "file_extension": ".py",
   "mimetype": "text/x-python",
   "name": "python",
   "nbconvert_exporter": "python",
   "pygments_lexer": "ipython3",
   "version": "3.10.6"
  }
 },
 "nbformat": 4,
 "nbformat_minor": 5
}
