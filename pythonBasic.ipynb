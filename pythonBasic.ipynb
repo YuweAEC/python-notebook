{
 "cells": [
  {
   "cell_type": "code",
   "execution_count": 1,
   "id": "01cd36c5-87b3-42da-965b-b58b04a6e741",
   "metadata": {
    "collapsed": true
   },
   "outputs": [
    {
     "name": "stdout",
     "output_type": "stream",
     "text": [
      "1\n",
      "2\n",
      "3\n",
      "4\n",
      "5\n",
      "6\n",
      "7\n",
      "8\n",
      "9\n",
      "1\n",
      "2\n",
      "3\n",
      "4\n",
      "5\n",
      "6\n",
      "7\n",
      "8\n",
      "9\n"
     ]
    }
   ],
   "source": [
    "#loops\n",
    "\n",
    "x=1\n",
    "y=10\n",
    "for i in range(x,y):\n",
    "    print(i)\n",
    "while x<y:\n",
    "    print(x)\n",
    "    x+=1\n",
    "    "
   ]
  },
  {
   "cell_type": "code",
   "execution_count": 2,
   "id": "483dbc4b",
   "metadata": {},
   "outputs": [],
   "source": [
    "#tuples\n",
    "\n",
    "# write simple tuple code here to understand the concept of tuples in python \n",
    "\n",
    "import sys\n",
    "import os\n",
    "\n",
    "# tuple is immutable\n",
    "# tuple is faster than list\n",
    "# tuple is used for data that does not change\n",
    "\n",
    "# tuple is defined by using () brackets\n",
    "\n",
    "# tuple can be defined with or without () brackets\n",
    "tup1 = 1, 2, 3, 4, 5\n",
    "tup2 = (1, 2, 3, 4, 5)\n",
    "\n",
    "# tuple can be defined with or without () brackets\n",
    "tup3 = 1,\n",
    "tup4 = (1,)\n",
    "\n",
    "# tuple can be defined with or without () brackets\n",
    "tup5 = 1, 2, 3, 4, 5\n",
    "tup6 = (1, 2, 3, 4, 5)\n"
   ]
  },
  {
   "cell_type": "code",
   "execution_count": 4,
   "id": "469b6a9f",
   "metadata": {},
   "outputs": [
    {
     "name": "stdout",
     "output_type": "stream",
     "text": [
      "(1, 2, 3, 4, 5)\n",
      "(1, 2, 3, 4, 5)\n"
     ]
    }
   ],
   "source": [
    "#tuples-Results\n",
    "print(tup1)\n",
    "print(tup2)\n"
   ]
  },
  {
   "cell_type": "code",
   "execution_count": 6,
   "id": "0e6e585a",
   "metadata": {},
   "outputs": [
    {
     "name": "stdout",
     "output_type": "stream",
     "text": [
      "(1,)\n",
      "(1, 2, 3, 4, 5)\n"
     ]
    }
   ],
   "source": [
    "#tuples-Results\n",
    "print(tup3)\n",
    "print(tup5)"
   ]
  },
  {
   "cell_type": "code",
   "execution_count": 10,
   "id": "47f05e9e",
   "metadata": {},
   "outputs": [
    {
     "name": "stdout",
     "output_type": "stream",
     "text": [
      "6 6 3\n"
     ]
    }
   ],
   "source": [
    "#type Convertion \n",
    "x = 6\n",
    "y = 3.5\n",
    "print(x,str(x),int(y))"
   ]
  },
  {
   "cell_type": "code",
   "execution_count": 13,
   "id": "a20b1718",
   "metadata": {},
   "outputs": [
    {
     "name": "stdout",
     "output_type": "stream",
     "text": [
      "1010 20\n"
     ]
    }
   ],
   "source": [
    "y = \"10\"\n",
    "z = y*2\n",
    "s = int(y)*2\n",
    "print(z,s)"
   ]
  },
  {
   "cell_type": "code",
   "execution_count": null,
   "id": "f8654ae1",
   "metadata": {},
   "outputs": [],
   "source": []
  }
 ],
 "metadata": {
  "kernelspec": {
   "display_name": "Python 3 (ipykernel)",
   "language": "python",
   "name": "python3"
  },
  "language_info": {
   "codemirror_mode": {
    "name": "ipython",
    "version": 3
   },
   "file_extension": ".py",
   "mimetype": "text/x-python",
   "name": "python",
   "nbconvert_exporter": "python",
   "pygments_lexer": "ipython3",
   "version": "3.11.4"
  }
 },
 "nbformat": 4,
 "nbformat_minor": 5
}
