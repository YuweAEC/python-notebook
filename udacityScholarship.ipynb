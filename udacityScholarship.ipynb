{
 "cells": [
  {
   "cell_type": "code",
   "execution_count": 3,
   "id": "bf20f00c",
   "metadata": {},
   "outputs": [],
   "source": [
    "def isLower(input_string):\n",
    "    print(input_string)\n"
   ]
  },
  {
   "cell_type": "code",
   "execution_count": 4,
   "id": "42422faa",
   "metadata": {},
   "outputs": [
    {
     "ename": "TypeError",
     "evalue": "isLower() missing 1 required positional argument: 'input_string'",
     "output_type": "error",
     "traceback": [
      "\u001b[1;31m---------------------------------------------------------------------------\u001b[0m",
      "\u001b[1;31mTypeError\u001b[0m                                 Traceback (most recent call last)",
      "Cell \u001b[1;32mIn[4], line 1\u001b[0m\n\u001b[1;32m----> 1\u001b[0m isLower()\n",
      "\u001b[1;31mTypeError\u001b[0m: isLower() missing 1 required positional argument: 'input_string'"
     ]
    }
   ],
   "source": [
    "isLower()"
   ]
  },
  {
   "cell_type": "code",
   "execution_count": 5,
   "id": "1b7a88bf",
   "metadata": {},
   "outputs": [
    {
     "name": "stdout",
     "output_type": "stream",
     "text": [
      "hello world\n"
     ]
    }
   ],
   "source": [
    "isLower(\"hello world\")"
   ]
  },
  {
   "cell_type": "code",
   "execution_count": 6,
   "id": "2d7d77a2",
   "metadata": {},
   "outputs": [
    {
     "name": "stdout",
     "output_type": "stream",
     "text": [
      "12.4\n"
     ]
    }
   ],
   "source": [
    "isLower(12.4)"
   ]
  },
  {
   "cell_type": "code",
   "execution_count": 7,
   "id": "f7a8a401",
   "metadata": {},
   "outputs": [
    {
     "data": {
      "text/plain": [
       "False"
      ]
     },
     "execution_count": 7,
     "metadata": {},
     "output_type": "execute_result"
    }
   ],
   "source": [
    "\"Hello World\".islower()\n"
   ]
  },
  {
   "cell_type": "code",
   "execution_count": 8,
   "id": "4663b1b0",
   "metadata": {},
   "outputs": [
    {
     "ename": "AttributeError",
     "evalue": "'float' object has no attribute 'islower'",
     "output_type": "error",
     "traceback": [
      "\u001b[1;31m---------------------------------------------------------------------------\u001b[0m",
      "\u001b[1;31mAttributeError\u001b[0m                            Traceback (most recent call last)",
      "Cell \u001b[1;32mIn[8], line 1\u001b[0m\n\u001b[1;32m----> 1\u001b[0m \u001b[38;5;241m12.34\u001b[39m\u001b[38;5;241m.\u001b[39mislower()\n",
      "\u001b[1;31mAttributeError\u001b[0m: 'float' object has no attribute 'islower'"
     ]
    }
   ],
   "source": [
    "12.34.islower()"
   ]
  },
  {
   "cell_type": "code",
   "execution_count": 10,
   "id": "4619f6d3",
   "metadata": {},
   "outputs": [
    {
     "data": {
      "text/plain": [
       "True"
      ]
     },
     "execution_count": 10,
     "metadata": {},
     "output_type": "execute_result"
    }
   ],
   "source": [
    "\"yuvraj\".islower()"
   ]
  },
  {
   "cell_type": "code",
   "execution_count": 11,
   "id": "792fec04",
   "metadata": {},
   "outputs": [
    {
     "data": {
      "text/plain": [
       "10.0"
      ]
     },
     "execution_count": 11,
     "metadata": {},
     "output_type": "execute_result"
    }
   ],
   "source": [
    "20/2.0"
   ]
  },
  {
   "cell_type": "code",
   "execution_count": null,
   "id": "b49bff86",
   "metadata": {},
   "outputs": [],
   "source": []
  }
 ],
 "metadata": {
  "kernelspec": {
   "display_name": "Python 3 (ipykernel)",
   "language": "python",
   "name": "python3"
  },
  "language_info": {
   "codemirror_mode": {
    "name": "ipython",
    "version": 3
   },
   "file_extension": ".py",
   "mimetype": "text/x-python",
   "name": "python",
   "nbconvert_exporter": "python",
   "pygments_lexer": "ipython3",
   "version": "3.11.4"
  }
 },
 "nbformat": 4,
 "nbformat_minor": 5
}
