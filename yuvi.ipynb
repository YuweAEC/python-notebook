{
 "cells": [
  {
   "cell_type": "code",
   "execution_count": 1,
   "id": "12d6e00b-e329-467b-b06c-074169f4d55e",
   "metadata": {},
   "outputs": [
    {
     "name": "stdin",
     "output_type": "stream",
     "text": [
      "Enter the number of subjects:  3\n",
      "Enter marks for subject 1:  12\n",
      "Enter marks for subject 2:  23\n",
      "Enter marks for subject 3:  34\n"
     ]
    },
    {
     "name": "stdout",
     "output_type": "stream",
     "text": [
      "Average marks: 23.00\n"
     ]
    }
   ],
   "source": [
    "# Initialize variables\n",
    "total_marks = 0\n",
    "num_subjects = 0\n",
    "\n",
    "# Get the number of subjects from the user\n",
    "num_subjects = int(input(\"Enter the number of subjects: \"))\n",
    "\n",
    "# Input marks for each subject and calculate total\n",
    "for i in range(num_subjects):\n",
    "    try:\n",
    "        marks = float(input(f\"Enter marks for subject {i + 1}: \"))\n",
    "        total_marks += marks\n",
    "    except ValueError:\n",
    "        print(\"Invalid input. Please enter a valid number.\")\n",
    "\n",
    "# Calculate the average\n",
    "if num_subjects > 0:\n",
    "    average = total_marks / num_subjects\n",
    "    print(f\"Average marks: {average:.2f}\")\n",
    "else:\n",
    "    print(\"No subjects entered, so average cannot be calculated.\")\n"
   ]
  },
  {
   "cell_type": "code",
   "execution_count": null,
   "id": "a19fd471-0a40-438b-95ba-cc47d74118cc",
   "metadata": {},
   "outputs": [],
   "source": []
  }
 ],
 "metadata": {
  "kernelspec": {
   "display_name": "Python 3 (ipykernel)",
   "language": "python",
   "name": "python3"
  },
  "language_info": {
   "codemirror_mode": {
    "name": "ipython",
    "version": 3
   },
   "file_extension": ".py",
   "mimetype": "text/x-python",
   "name": "python",
   "nbconvert_exporter": "python",
   "pygments_lexer": "ipython3",
   "version": "3.10.6"
  }
 },
 "nbformat": 4,
 "nbformat_minor": 5
}
